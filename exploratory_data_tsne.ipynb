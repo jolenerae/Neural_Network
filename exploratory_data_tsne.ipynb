from torchvision.datasets import FashionMNIST
from torchvision.datasets import MNIST
from torchvision.datasets import CIFAR10
import torchvision.transforms as transforms
from sklearn.manifold import TSNE
import matplotlib.pyplot as plt

# Load the datasets
fashion_mnist_train = FashionMNIST(root='.', train=True, transform=transforms.ToTensor(), download=True)
mnist_train = MNIST(root='.', train=True, transform=transforms.ToTensor(), download=True)
cifar10_train = CIFAR10(root='.', train=True, transform=transforms.ToTensor(), download=True)

def perform_tsne(dataset, name):
    # Extract images and labels
    images = dataset.data.reshape((-1, 28*28)).numpy()
    labels = dataset.targets.numpy()

    # Reduce dimensionality with t-SNE
    tsne = TSNE(n_components=2, random_state=42)
    tsne_results = tsne.fit_transform(images)

    # Visualize the t-SNE results
    plt.figure(figsize=(10, 8))
    for i in range(10):  # Plot each digit class separately
        indices = labels == i
        plt.scatter(tsne_results[indices, 0], tsne_results[indices, 1], label=str(i))
    plt.title('t-SNE Visualization of %s Dataset', name)
    plt.xlabel('t-SNE Component 1')
    plt.ylabel('t-SNE Component 2')
    plt.legend(title='Classes')
    plt.grid(True)
    plt.show()

perform_tsne(fashion_mnist_train, "Fashion-MNIST")
perform_tsne(mnist_train, "MNIST")
perform_tsne(cifar10_train, "CIFAR-10")